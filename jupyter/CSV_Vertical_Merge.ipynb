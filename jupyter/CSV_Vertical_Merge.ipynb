{
 "cells": [
  {
   "cell_type": "code",
   "execution_count": null,
   "metadata": {},
   "outputs": [],
   "source": [
    "'''\n",
    "The tool to vertically merge csv files in specified folder at once\n",
    "created csv file will be named as folder name.csv\n",
    "\n",
    "指定したフォルダ内に存在するCSVファイルを一括で縦結合するツールです\n",
    "フォルダ名.csvとして保存されます\n",
    "\n",
    "pip install pysimplegui\n",
    "'''"
   ]
  },
  {
   "cell_type": "code",
   "execution_count": 1,
   "metadata": {},
   "outputs": [],
   "source": [
    "import os\n",
    "import numpy as np\n",
    "import pandas as pd\n",
    "import PySimpleGUI as sg\n",
    "from os.path import basename\n",
    "import glob "
   ]
  },
  {
   "cell_type": "code",
   "execution_count": 2,
   "metadata": {},
   "outputs": [],
   "source": [
    "size1 = (40, 1)\n",
    "size2 = (30, 1)\n",
    "\n",
    "layout = [[sg.Text('Path of the folder including csv files that to be merged', size=size1)], \n",
    "           [sg.InputText('', size=size2, key='input_folderpath'),\n",
    "           sg.FolderBrowse('Chose folder')],\n",
    "           [sg.Button('Merge', key='action')]]\n",
    "\n",
    "window = sg.Window('CSV vertical merge tool', layout, finalize=True)\n",
    "\n",
    "while True:\n",
    "    event, values = window.read()\n",
    "\n",
    "    if event == sg.WIN_CLOSED: #when clicked \"x\" button of the window\n",
    "        break\n",
    "\n",
    "    if event == 'action':\n",
    "        if(values[\"input_folderpath\"] != \"\"):\n",
    "            \n",
    "            folderpath = values[\"input_folderpath\"]                    \n",
    "            files = glob.glob(folderpath + \"/*.csv\")\n",
    "                \n",
    "            if(len(files) <= 0):\n",
    "                print(\"Could not find the file．\")\n",
    "                continue\n",
    "            \n",
    "            savename = os.path.basename(folderpath)\n",
    "            savepath = folderpath + \"/\" + savename + \".csv\"    \n",
    "            \n",
    "            pd_data = pd.DataFrame()      \n",
    "            print(\"File Merging：\")\n",
    "            for i in files:\n",
    "                print(i)\n",
    "                pd_data = pd.concat([pd_data, pd.read_csv(i, index_col=0)])\n",
    "                \n",
    "            #reset Index\n",
    "            pd_data.reset_index(inplace=True, drop=True)\n",
    "            \n",
    "            try:\n",
    "                pd_data.to_csv(savepath)\n",
    "                sg.popup(\"CSV file created．\\nPath: \" + savepath) \n",
    "                #Open the folder( after converted to absolute path )\n",
    "                os.startfile(os.path.normpath(os.path.dirname(savepath)))\n",
    "            except:\n",
    "                sg.PopupError(\"Failed to save CSV file.\") \n",
    "                print(\"Failed to save CSV file.\")\n",
    "                continue"
   ]
  }
 ],
 "metadata": {
  "kernelspec": {
   "display_name": "Python 3 (ipykernel)",
   "language": "python",
   "name": "python3"
  },
  "language_info": {
   "codemirror_mode": {
    "name": "ipython",
    "version": 3
   },
   "file_extension": ".py",
   "mimetype": "text/x-python",
   "name": "python",
   "nbconvert_exporter": "python",
   "pygments_lexer": "ipython3",
   "version": "3.9.7"
  }
 },
 "nbformat": 4,
 "nbformat_minor": 2
}
