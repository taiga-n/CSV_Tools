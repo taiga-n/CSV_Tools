{
 "cells": [
  {
   "cell_type": "code",
   "execution_count": null,
   "metadata": {},
   "outputs": [],
   "source": [
    "'''\n",
    "A tool to split CSV file in constant intervals\n",
    "For Example, when lines are 1,2,3,4,5,6 and Data extract interval is 3,\n",
    "three csv files which consists of lines 1,4 and 2,5 and 3,6 are generated.\n",
    "\n",
    "CSVファイルの行を一定間隔で抽出分割するツールです\n",
    "例えば行が1,2,3,4,5,6で，抽出間隔が3のとき，1,4と2,5と3,6の行で構成された3つのcsvファイルが生成されます\n",
    "\n",
    "pip install pysimplegui\n",
    "'''"
   ]
  },
  {
   "cell_type": "code",
   "execution_count": 3,
   "metadata": {},
   "outputs": [],
   "source": [
    "import os\n",
    "import numpy as np\n",
    "import pandas as pd\n",
    "import PySimpleGUI as sg\n",
    "from os.path import basename"
   ]
  },
  {
   "cell_type": "code",
   "execution_count": 4,
   "metadata": {},
   "outputs": [],
   "source": [
    "interval = 12\n",
    "\n",
    "size1 = (40, 1)\n",
    "size2 = (30, 1)\n",
    "\n",
    "layout = [[sg.Text('CSV file to be splitted in constant intervals', size=size1)], \n",
    "           [sg.InputText('', size=size2, key='input_filepath'),\n",
    "           sg.FileBrowse('Choose CSV', file_types=(('CSV files','*.csv'),))],\n",
    "           [sg.Text('Data extract interval', size=size1)],\n",
    "            [sg.InputText('12', size=size2, key='data_interval')],\n",
    "            [sg.Button('Split', key='action')]]\n",
    "\n",
    "window = sg.Window('splitting CSV in constant intervals tools', layout, finalize=True)\n",
    "\n",
    "while True:\n",
    "    event, values = window.read()\n",
    "\n",
    "    if event == sg.WIN_CLOSED: #when clicked \"x\" button of the window\n",
    "        break\n",
    "\n",
    "    if event == 'action':\n",
    "        if(values[\"input_filepath\"] != \"\" and values[\"data_interval\"] != \"\"):\n",
    "            \n",
    "            filepath = values[\"input_filepath\"]\n",
    "            pd_file = None\n",
    "            \n",
    "            try:\n",
    "                interval = int(values[\"data_interval\"])\n",
    "            except:\n",
    "                print(\"Please enter integer\")\n",
    "                continue\n",
    "                \n",
    "            try:\n",
    "                pd_file = pd.read_csv(filepath)\n",
    "            except:\n",
    "                print(\"Failed to open the CSV file\")\n",
    "                continue\n",
    "            \n",
    "            filename_without_ext = os.path.splitext(os.path.basename(filepath))[0]\n",
    "            ditname = os.path.dirname(filepath)\n",
    "            savepath = ditname + \"/\" + filename_without_ext\n",
    "            \n",
    "            l = 1\n",
    "            while(os.path.exists(savepath)):\n",
    "                savepath = savepath + \"_\" + l\n",
    "                l = l + 1\n",
    "                         \n",
    "            try:\n",
    "                os.makedirs(savepath)\n",
    "            except:\n",
    "                print(\"Failed to make directory\")\n",
    "                continue\n",
    "                \n",
    "            for i in range(0,interval):\n",
    "                pd_file_edited = pd_file[pd_file.index % interval == i]\n",
    "                pd_file_edited.to_csv(savepath + \"/\" + filename_without_ext + \"_\" + str(i) + \".csv\",encoding=\"shift jis\")\n",
    "            \n",
    "            sg.popup(\"CSV file created．\\nPath: \" + savepath)\n",
    "            #Open the folder( after converted to absolute path )\n",
    "            os.startfile(os.path.normpath(savepath))"
   ]
  }
 ],
 "metadata": {
  "kernelspec": {
   "display_name": "Python 3 (ipykernel)",
   "language": "python",
   "name": "python3"
  },
  "language_info": {
   "codemirror_mode": {
    "name": "ipython",
    "version": 3
   },
   "file_extension": ".py",
   "mimetype": "text/x-python",
   "name": "python",
   "nbconvert_exporter": "python",
   "pygments_lexer": "ipython3",
   "version": "3.9.7"
  }
 },
 "nbformat": 4,
 "nbformat_minor": 2
}
